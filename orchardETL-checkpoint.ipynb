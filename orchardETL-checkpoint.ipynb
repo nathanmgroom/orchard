{
 "cells": [
  {
   "cell_type": "code",
   "execution_count": 36,
   "metadata": {},
   "outputs": [],
   "source": [
    "import pandas as pd\n",
    "import csv\n",
    "import sqlite3\n",
    "from matplotlib import pyplot as plt\n",
    "import numpy as np\n"
   ]
  },
  {
   "cell_type": "code",
   "execution_count": 2,
   "metadata": {},
   "outputs": [],
   "source": [
    "#create the database in local memory\n",
    "con = sqlite3.connect(\":memory:\")\n",
    "con.text_factory = str\n",
    "cur = con.cursor()"
   ]
  },
  {
   "cell_type": "code",
   "execution_count": 29,
   "metadata": {},
   "outputs": [],
   "source": [
    "# Reading data file into Python from Github\n",
    "\n",
    "fil = 'https://github.com/nathanmgroom/orchard/raw/master/DOHMH_New_York_City_Restaurant_Inspection_Results2.zip'\n",
    "df = pd.read_csv(fil, compression='zip')\n"
   ]
  },
  {
   "cell_type": "code",
   "execution_count": 30,
   "metadata": {},
   "outputs": [],
   "source": [
    "# use Pandas to convert the data frame to a SQL object\n",
    "df.to_sql('food_table', con, if_exists='replace', index=True)\n"
   ]
  },
  {
   "cell_type": "code",
   "execution_count": 31,
   "metadata": {},
   "outputs": [],
   "source": [
    "# grouping for number of top Thai restaurants in each Borough\n",
    "# there's a 16-way tie for 2nd place according to the 'Score' category (a lower score is better). One restaurant received\n",
    "# a score of 0, and 16 received a score of 2.0.\n",
    "# So even though the prompt asks for the top 10, I included the top 17\n",
    "cur.execute(\"\"\"select distinct DBA, CUISINEDESCRIPTION,BORO,GRADE, \n",
    "            SCORE FROM food_table where CUISINEDESCRIPTION = 'Thai' AND GRADE IN ('A','B') AND SCORE <= 2.0\n",
    "            ORDER BY SCORE LIMIT 100\"\"\")\n",
    "x=cur.fetchall()\n",
    "cur.execute(\"\"\"SELECT BORO, count(distinct DBA) as DBA FROM (select distinct DBA, CUISINEDESCRIPTION,BORO,GRADE, \n",
    "            SCORE FROM food_table where CUISINEDESCRIPTION = 'Thai' AND GRADE IN ('A','B') AND SCORE <= 2.0\n",
    "            ORDER BY SCORE LIMIT 100) inner1 GROUP BY BORO\"\"\")\n",
    "y=cur.fetchall()\n"
   ]
  },
  {
   "cell_type": "code",
   "execution_count": 32,
   "metadata": {},
   "outputs": [],
   "source": [
    "top_thai1 = pd.DataFrame(x)\n",
    "new_df = pd.DataFrame(y)\n"
   ]
  },
  {
   "cell_type": "code",
   "execution_count": 33,
   "metadata": {},
   "outputs": [],
   "source": [
    "top_thai1.columns = ['Restaurant_Name','Category','Boro','Grade','Score']\n",
    "new_df.columns = ['Borough','Count of Top Thai Restaurants']\n"
   ]
  },
  {
   "cell_type": "code",
   "execution_count": 34,
   "metadata": {},
   "outputs": [],
   "source": [
    "new_df.index += 1\n",
    "top_thai1.index +=1"
   ]
  },
  {
   "cell_type": "code",
   "execution_count": 35,
   "metadata": {},
   "outputs": [
    {
     "data": {
      "text/html": [
       "<div>\n",
       "<style scoped>\n",
       "    .dataframe tbody tr th:only-of-type {\n",
       "        vertical-align: middle;\n",
       "    }\n",
       "\n",
       "    .dataframe tbody tr th {\n",
       "        vertical-align: top;\n",
       "    }\n",
       "\n",
       "    .dataframe thead th {\n",
       "        text-align: right;\n",
       "    }\n",
       "</style>\n",
       "<table border=\"1\" class=\"dataframe\">\n",
       "  <thead>\n",
       "    <tr style=\"text-align: right;\">\n",
       "      <th></th>\n",
       "      <th>Restaurant_Name</th>\n",
       "      <th>Category</th>\n",
       "      <th>Boro</th>\n",
       "      <th>Grade</th>\n",
       "      <th>Score</th>\n",
       "    </tr>\n",
       "  </thead>\n",
       "  <tbody>\n",
       "    <tr>\n",
       "      <th>1</th>\n",
       "      <td>UP.THAI</td>\n",
       "      <td>Thai</td>\n",
       "      <td>MANHATTAN</td>\n",
       "      <td>A</td>\n",
       "      <td>0.0</td>\n",
       "    </tr>\n",
       "    <tr>\n",
       "      <th>2</th>\n",
       "      <td>RIN.THAI.CUISINE</td>\n",
       "      <td>Thai</td>\n",
       "      <td>MANHATTAN</td>\n",
       "      <td>A</td>\n",
       "      <td>2.0</td>\n",
       "    </tr>\n",
       "    <tr>\n",
       "      <th>3</th>\n",
       "      <td>SRIPRAPHAI.THAI.RESTAURANT</td>\n",
       "      <td>Thai</td>\n",
       "      <td>QUEENS</td>\n",
       "      <td>A</td>\n",
       "      <td>2.0</td>\n",
       "    </tr>\n",
       "    <tr>\n",
       "      <th>4</th>\n",
       "      <td>V.THAI.RESTAURANT.AND.BAR</td>\n",
       "      <td>Thai</td>\n",
       "      <td>MANHATTAN</td>\n",
       "      <td>A</td>\n",
       "      <td>2.0</td>\n",
       "    </tr>\n",
       "    <tr>\n",
       "      <th>5</th>\n",
       "      <td>SPICE</td>\n",
       "      <td>Thai</td>\n",
       "      <td>QUEENS</td>\n",
       "      <td>A</td>\n",
       "      <td>2.0</td>\n",
       "    </tr>\n",
       "    <tr>\n",
       "      <th>6</th>\n",
       "      <td>DER.KRUNG</td>\n",
       "      <td>Thai</td>\n",
       "      <td>MANHATTAN</td>\n",
       "      <td>A</td>\n",
       "      <td>2.0</td>\n",
       "    </tr>\n",
       "    <tr>\n",
       "      <th>7</th>\n",
       "      <td>AMARIN.CAFE</td>\n",
       "      <td>Thai</td>\n",
       "      <td>BROOKLYN</td>\n",
       "      <td>A</td>\n",
       "      <td>2.0</td>\n",
       "    </tr>\n",
       "    <tr>\n",
       "      <th>8</th>\n",
       "      <td>THAI.CAFE</td>\n",
       "      <td>Thai</td>\n",
       "      <td>BROOKLYN</td>\n",
       "      <td>A</td>\n",
       "      <td>2.0</td>\n",
       "    </tr>\n",
       "    <tr>\n",
       "      <th>9</th>\n",
       "      <td>KHAO.KANG</td>\n",
       "      <td>Thai</td>\n",
       "      <td>QUEENS</td>\n",
       "      <td>A</td>\n",
       "      <td>2.0</td>\n",
       "    </tr>\n",
       "    <tr>\n",
       "      <th>10</th>\n",
       "      <td>A.PLUS.THAI.PLACE</td>\n",
       "      <td>Thai</td>\n",
       "      <td>MANHATTAN</td>\n",
       "      <td>A</td>\n",
       "      <td>2.0</td>\n",
       "    </tr>\n",
       "    <tr>\n",
       "      <th>11</th>\n",
       "      <td>EAST.VILLAGE.THIA.RESTAURANT</td>\n",
       "      <td>Thai</td>\n",
       "      <td>MANHATTAN</td>\n",
       "      <td>A</td>\n",
       "      <td>2.0</td>\n",
       "    </tr>\n",
       "    <tr>\n",
       "      <th>12</th>\n",
       "      <td>CHANG.NOI.THAI</td>\n",
       "      <td>Thai</td>\n",
       "      <td>STATEN ISLAND</td>\n",
       "      <td>A</td>\n",
       "      <td>2.0</td>\n",
       "    </tr>\n",
       "    <tr>\n",
       "      <th>13</th>\n",
       "      <td>THAILICIOUS</td>\n",
       "      <td>Thai</td>\n",
       "      <td>MANHATTAN</td>\n",
       "      <td>A</td>\n",
       "      <td>2.0</td>\n",
       "    </tr>\n",
       "    <tr>\n",
       "      <th>14</th>\n",
       "      <td>THAI.BKK</td>\n",
       "      <td>Thai</td>\n",
       "      <td>MANHATTAN</td>\n",
       "      <td>A</td>\n",
       "      <td>2.0</td>\n",
       "    </tr>\n",
       "    <tr>\n",
       "      <th>15</th>\n",
       "      <td>KHAO.NOM</td>\n",
       "      <td>Thai</td>\n",
       "      <td>QUEENS</td>\n",
       "      <td>A</td>\n",
       "      <td>2.0</td>\n",
       "    </tr>\n",
       "    <tr>\n",
       "      <th>16</th>\n",
       "      <td>TALADWAT</td>\n",
       "      <td>Thai</td>\n",
       "      <td>MANHATTAN</td>\n",
       "      <td>A</td>\n",
       "      <td>2.0</td>\n",
       "    </tr>\n",
       "    <tr>\n",
       "      <th>17</th>\n",
       "      <td>CHU.ROS.THAI</td>\n",
       "      <td>Thai</td>\n",
       "      <td>MANHATTAN</td>\n",
       "      <td>A</td>\n",
       "      <td>2.0</td>\n",
       "    </tr>\n",
       "  </tbody>\n",
       "</table>\n",
       "</div>"
      ],
      "text/plain": [
       "                 Restaurant_Name Category           Boro Grade  Score\n",
       "1                        UP.THAI     Thai      MANHATTAN     A    0.0\n",
       "2               RIN.THAI.CUISINE     Thai      MANHATTAN     A    2.0\n",
       "3     SRIPRAPHAI.THAI.RESTAURANT     Thai         QUEENS     A    2.0\n",
       "4      V.THAI.RESTAURANT.AND.BAR     Thai      MANHATTAN     A    2.0\n",
       "5                          SPICE     Thai         QUEENS     A    2.0\n",
       "6                      DER.KRUNG     Thai      MANHATTAN     A    2.0\n",
       "7                    AMARIN.CAFE     Thai       BROOKLYN     A    2.0\n",
       "8                      THAI.CAFE     Thai       BROOKLYN     A    2.0\n",
       "9                      KHAO.KANG     Thai         QUEENS     A    2.0\n",
       "10             A.PLUS.THAI.PLACE     Thai      MANHATTAN     A    2.0\n",
       "11  EAST.VILLAGE.THIA.RESTAURANT     Thai      MANHATTAN     A    2.0\n",
       "12                CHANG.NOI.THAI     Thai  STATEN ISLAND     A    2.0\n",
       "13                   THAILICIOUS     Thai      MANHATTAN     A    2.0\n",
       "14                      THAI.BKK     Thai      MANHATTAN     A    2.0\n",
       "15                      KHAO.NOM     Thai         QUEENS     A    2.0\n",
       "16                      TALADWAT     Thai      MANHATTAN     A    2.0\n",
       "17                  CHU.ROS.THAI     Thai      MANHATTAN     A    2.0"
      ]
     },
     "execution_count": 35,
     "metadata": {},
     "output_type": "execute_result"
    }
   ],
   "source": [
    "#the top Thai restaurants\n",
    "top_thai1"
   ]
  },
  {
   "cell_type": "code",
   "execution_count": 139,
   "metadata": {
    "scrolled": true
   },
   "outputs": [
    {
     "data": {
      "image/png": "[encoded data removed]",
      "text/plain": [
       "<Figure size 432x288 with 1 Axes>"
      ]
     },
     "metadata": {
      "needs_background": "light"
     },
     "output_type": "display_data"
    }
   ],
   "source": [
    "x = np.arange(4)\n",
    "fig, ax = plt.subplots()\n",
    "count = new_df['Count of Top Thai Restaurants']\n",
    "plt.bar(x, count)\n",
    "plt.xticks(x, ('Brooklyn', 'Manhattan', 'Queens', 'Staten Island'))\n",
    "plt.title('Top Thai Restaurants by NYC Borough')\n",
    "plt.savefig('/Users/natha/Desktop/flask_project/viz1.png')"
   ]
  },
  {
   "cell_type": "code",
   "execution_count": null,
   "metadata": {},
   "outputs": [],
   "source": []
  },
  {
   "cell_type": "code",
   "execution_count": 101,
   "metadata": {},
   "outputs": [],
   "source": [
    "# look at count of restaurants by grade\n",
    "cur.execute(\"\"\"SELECT Grade, count(distinct DBA) as DBA FROM(select distinct DBA, CUISINEDESCRIPTION,BORO,GRADE, \n",
    "            SCORE FROM food_table where CUISINEDESCRIPTION = 'Thai'\n",
    "            ORDER BY SCORE) inner1 GROUP BY Grade\"\"\")\n",
    "z=cur.fetchall()"
   ]
  },
  {
   "cell_type": "code",
   "execution_count": 116,
   "metadata": {},
   "outputs": [],
   "source": [
    "new_df2 = pd.DataFrame(z)\n",
    "\n",
    "new_df2.columns = ['Grade','Count Thai Restaurants By Grade']\n"
   ]
  },
  {
   "cell_type": "code",
   "execution_count": 140,
   "metadata": {
    "scrolled": true
   },
   "outputs": [
    {
     "data": {
      "image/png": "[encoded data removed]",
      "text/plain": [
       "<Figure size 432x288 with 1 Axes>"
      ]
     },
     "metadata": {
      "needs_background": "light"
     },
     "output_type": "display_data"
    }
   ],
   "source": [
    "x2 = np.arange(7)\n",
    "fig, ax = plt.subplots()\n",
    "count2 = new_df2['Count Thai Restaurants By Grade']\n",
    "plt.bar(x2, count2)\n",
    "plt.xticks(x2, ('None', 'A', 'B', 'C','Pending','P','Z'))\n",
    "plt.title('NYC Thai Restaurants By Grade')\n",
    "plt.savefig('/Users/natha/Desktop/flask_project/viz2.png')"
   ]
  },
  {
   "cell_type": "code",
   "execution_count": 153,
   "metadata": {},
   "outputs": [],
   "source": [
    "#check data types of table\n",
    "cur.execute(\"\"\"PRAGMA table_info(food_table)\"\"\")\n",
    "datatypes=cur.fetchall()"
   ]
  },
  {
   "cell_type": "code",
   "execution_count": null,
   "metadata": {},
   "outputs": [],
   "source": []
  },
  {
   "cell_type": "code",
   "execution_count": null,
   "metadata": {},
   "outputs": [],
   "source": []
  }
 ],
 "metadata": {
  "kernelspec": {
   "display_name": "Python 2",
   "language": "python",
   "name": "python2"
  },
  "language_info": {
   "codemirror_mode": {
    "name": "ipython",
    "version": 2
   },
   "file_extension": ".py",
   "mimetype": "text/x-python",
   "name": "python",
   "nbconvert_exporter": "python",
   "pygments_lexer": "ipython2",
   "version": "2.7.16"
  }
 },
 "nbformat": 4,
 "nbformat_minor": 2
}
